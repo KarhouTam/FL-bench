{
 "cells": [
  {
   "cell_type": "code",
   "execution_count": 23,
   "metadata": {},
   "outputs": [],
   "source": [
    "from test_utils import *\n",
    "tag = f\"c0\"\n",
    "filter = LayerFilter(unselect_keys=['bn', 'num_batches_tracked','downsample'], all_select_keys=['layer'])\n",
    "weight_dict = load_weight_dict_by_tag('../out/SVDFed-alexnet/2024-09-19-18:57:56/weight_lists', tag)\n",
    "grad_dict = load_weight_dict_by_tag('../out/SVDFed-alexnet/2024-09-19-18:57:56/grad_lists', tag)\n",
    "# cal_similay_by_tag('weight_lists/202405281805-avg-ss/',\"server\", unselect_keys=['bn', 'num_batches_tracked','downsample'], describe='202405281805-avg-ss')\n"
   ]
  },
  {
   "cell_type": "code",
   "execution_count": 37,
   "metadata": {},
   "outputs": [],
   "source": [
    "amc_weight_dict = load_weight_dict_by_tag('../out/FedAMC-amc_alexnet_cosine_0.97_0.2_4_0.65/2024-08-30-15:13:54/weight_lists', tag)\n"
   ]
  },
  {
   "cell_type": "code",
   "execution_count": 33,
   "metadata": {},
   "outputs": [
    {
     "data": {
      "text/plain": [
       "odict_keys(['base.conv1.weight', 'base.conv1.bias', 'base.bn1.weight', 'base.bn1.bias', 'base.bn1.running_mean', 'base.bn1.running_var', 'base.bn1.num_batches_tracked', 'base.conv2.weight', 'base.conv2.bias', 'base.bn2.weight', 'base.bn2.bias', 'base.bn2.running_mean', 'base.bn2.running_var', 'base.bn2.num_batches_tracked', 'base.conv3.weight', 'base.conv3.bias', 'base.bn3.weight', 'base.bn3.bias', 'base.bn3.running_mean', 'base.bn3.running_var', 'base.bn3.num_batches_tracked', 'base.conv4.weight', 'base.conv4.bias', 'base.bn4.weight', 'base.bn4.bias', 'base.bn4.running_mean', 'base.bn4.running_var', 'base.bn4.num_batches_tracked', 'base.conv5.weight', 'base.conv5.bias', 'base.bn5.weight', 'base.bn5.bias', 'base.bn5.running_mean', 'base.bn5.running_var', 'base.bn5.num_batches_tracked', 'classifier.fc1.weight', 'classifier.fc1.bias', 'classifier.bn6.weight', 'classifier.bn6.bias', 'classifier.bn6.running_mean', 'classifier.bn6.running_var', 'classifier.bn6.num_batches_tracked', 'classifier.fc2.weight', 'classifier.fc2.bias', 'classifier.bn7.weight', 'classifier.bn7.bias', 'classifier.bn7.running_mean', 'classifier.bn7.running_var', 'classifier.bn7.num_batches_tracked', 'classifier.fc3.weight', 'classifier.fc3.bias'])"
      ]
     },
     "execution_count": 33,
     "metadata": {},
     "output_type": "execute_result"
    }
   ],
   "source": [
    "weight_dict[2][0].keys()"
   ]
  },
  {
   "cell_type": "code",
   "execution_count": 67,
   "metadata": {},
   "outputs": [],
   "source": [
    "from copy import deepcopy\n",
    "\n",
    "\n",
    "weight = deepcopy(weight_dict[2][0])\n",
    "grad = grad_dict[2][0]\n",
    "for layer_name, params in weight.items():\n",
    "    # 将grad 变成params的形状\n",
    "    if layer_name not in grad:\n",
    "        continue\n",
    "    params.sub_(grad[layer_name].view_as(params))"
   ]
  },
  {
   "cell_type": "code",
   "execution_count": 69,
   "metadata": {},
   "outputs": [
    {
     "data": {
      "text/plain": [
       "tensor([[ 0.0352,  0.0402,  0.0532,  ...,  0.0734,  0.0250,  0.0248],\n",
       "        [ 0.0678,  0.0735, -0.0713,  ...,  0.0165,  0.0293,  0.0199],\n",
       "        [-0.0336, -0.0315, -0.1208,  ...,  0.0013, -0.0349, -0.0389],\n",
       "        ...,\n",
       "        [-0.0012, -0.0080, -0.0436,  ..., -0.0764, -0.0861, -0.0893],\n",
       "        [-0.0206, -0.0287, -0.0785,  ...,  0.1087,  0.1086,  0.0950],\n",
       "        [-0.0502, -0.0536, -0.0551,  ..., -0.0934, -0.0051,  0.0026]],\n",
       "       device='cuda:1')"
      ]
     },
     "execution_count": 69,
     "metadata": {},
     "output_type": "execute_result"
    }
   ],
   "source": [
    "weight['classifier.fc1.weight']"
   ]
  },
  {
   "cell_type": "code",
   "execution_count": 70,
   "metadata": {},
   "outputs": [
    {
     "data": {
      "text/plain": [
       "tensor([[ 3.3341e-02,  3.8390e-02,  5.1237e-02,  ...,  6.8903e-02,\n",
       "          2.4229e-02,  2.4044e-02],\n",
       "        [ 6.3690e-02,  6.9347e-02, -6.7696e-02,  ...,  1.5291e-02,\n",
       "          2.7732e-02,  1.8340e-02],\n",
       "        [-3.0912e-02, -2.8785e-02, -1.1537e-01,  ...,  2.5482e-05,\n",
       "         -3.3612e-02, -3.7604e-02],\n",
       "        ...,\n",
       "        [-3.8517e-04, -7.2397e-03, -4.0716e-02,  ..., -7.3000e-02,\n",
       "         -8.2991e-02, -8.6285e-02],\n",
       "        [-1.9315e-02, -2.7339e-02, -7.3613e-02,  ...,  1.0303e-01,\n",
       "          1.0351e-01,  8.9930e-02],\n",
       "        [-4.7516e-02, -5.0984e-02, -5.2971e-02,  ..., -8.9062e-02,\n",
       "         -5.0118e-03,  2.6619e-03]], device='cuda:1')"
      ]
     },
     "execution_count": 70,
     "metadata": {},
     "output_type": "execute_result"
    }
   ],
   "source": [
    "weight_dict[2][0]['classifier.fc1.weight']\n"
   ]
  },
  {
   "cell_type": "code",
   "execution_count": 61,
   "metadata": {},
   "outputs": [
    {
     "data": {
      "text/plain": [
       "tensor(0.0247, device='cuda:1')"
      ]
     },
     "execution_count": 61,
     "metadata": {},
     "output_type": "execute_result"
    }
   ],
   "source": [
    "grad_dict[2][0]['classifier.fc1.weight'].max()"
   ]
  },
  {
   "cell_type": "code",
   "execution_count": 11,
   "metadata": {},
   "outputs": [
    {
     "data": {
      "text/plain": [
       "tensor([[[[ 0.0883,  0.0958, -0.0271,  0.1061, -0.0253],\n",
       "          [ 0.0233, -0.0562,  0.0678,  0.1018, -0.0847],\n",
       "          [ 0.1004,  0.0216,  0.0853,  0.0156,  0.0557],\n",
       "          [-0.0163,  0.0890,  0.0171, -0.0539,  0.0294],\n",
       "          [-0.0532, -0.0135, -0.0469,  0.0766, -0.0911]],\n",
       "\n",
       "         [[-0.0532, -0.0326, -0.0694,  0.0109, -0.1140],\n",
       "          [ 0.1043, -0.0981,  0.0891,  0.0192, -0.0375],\n",
       "          [ 0.0714,  0.0180,  0.0933,  0.0126, -0.0364],\n",
       "          [ 0.0310, -0.0313,  0.0486,  0.1031,  0.0667],\n",
       "          [-0.0505,  0.0667,  0.0207,  0.0586, -0.0704]],\n",
       "\n",
       "         [[-0.1143, -0.0446, -0.0886,  0.0947,  0.0333],\n",
       "          [ 0.0478,  0.0365, -0.0020,  0.0904, -0.0820],\n",
       "          [ 0.0073, -0.0788,  0.0356, -0.0398,  0.0354],\n",
       "          [-0.0241,  0.0958, -0.0684, -0.0689, -0.0689],\n",
       "          [ 0.1039,  0.0385,  0.1111, -0.0953, -0.1145]]],\n",
       "\n",
       "\n",
       "        [[[-0.0903, -0.0777,  0.0468,  0.0413,  0.0959],\n",
       "          [-0.0596, -0.0787,  0.0613, -0.0467,  0.0701],\n",
       "          [-0.0274,  0.0661, -0.0897, -0.0583,  0.0352],\n",
       "          [ 0.0244, -0.0294,  0.0688,  0.0785, -0.0837],\n",
       "          [-0.0616,  0.1057, -0.0390, -0.0409, -0.1117]],\n",
       "\n",
       "         [[-0.0661,  0.0288, -0.0152, -0.0838,  0.0027],\n",
       "          [-0.0789, -0.0980, -0.0636, -0.1011, -0.0735],\n",
       "          [ 0.1154,  0.0218,  0.0356, -0.1077, -0.0758],\n",
       "          [-0.0384,  0.0181, -0.1016, -0.0498, -0.0691],\n",
       "          [ 0.0003, -0.0430, -0.0080, -0.0782, -0.0793]],\n",
       "\n",
       "         [[-0.0674, -0.0395, -0.0911,  0.0968, -0.0229],\n",
       "          [ 0.0994,  0.0360, -0.0978,  0.0799, -0.0318],\n",
       "          [-0.0443, -0.0958, -0.1148,  0.0330, -0.0252],\n",
       "          [ 0.0450, -0.0948,  0.0857, -0.0848, -0.0199],\n",
       "          [ 0.0241,  0.0596,  0.0932,  0.1052, -0.0916]]],\n",
       "\n",
       "\n",
       "        [[[ 0.0291, -0.0497, -0.0127, -0.0864,  0.1052],\n",
       "          [-0.0847,  0.0617,  0.0406,  0.0375, -0.0624],\n",
       "          [ 0.1050,  0.0254,  0.0149, -0.1018,  0.0485],\n",
       "          [-0.0173, -0.0529,  0.0992,  0.0257, -0.0639],\n",
       "          [-0.0584, -0.0055,  0.0645, -0.0295, -0.0659]],\n",
       "\n",
       "         [[-0.0395, -0.0863,  0.0412,  0.0894, -0.1087],\n",
       "          [ 0.0268,  0.0597,  0.0209, -0.0411,  0.0603],\n",
       "          [ 0.0607,  0.0432, -0.0203, -0.0306,  0.0124],\n",
       "          [-0.0204, -0.0344,  0.0738,  0.0992, -0.0114],\n",
       "          [-0.0259,  0.0017, -0.0069,  0.0278,  0.0324]],\n",
       "\n",
       "         [[-0.1049, -0.0426,  0.0972,  0.0450, -0.0057],\n",
       "          [-0.0696, -0.0706, -0.1034, -0.0376,  0.0390],\n",
       "          [ 0.0736,  0.0533, -0.1021, -0.0694, -0.0182],\n",
       "          [ 0.1117,  0.0167, -0.0299,  0.0478, -0.0440],\n",
       "          [-0.0747,  0.0843, -0.0525, -0.0231, -0.1149]]],\n",
       "\n",
       "\n",
       "        ...,\n",
       "\n",
       "\n",
       "        [[[-0.0968, -0.0225, -0.0312, -0.0690, -0.0567],\n",
       "          [-0.0324,  0.0120,  0.0820, -0.0190,  0.1132],\n",
       "          [-0.0549, -0.0594, -0.0060, -0.0209,  0.0367],\n",
       "          [ 0.1067,  0.0395, -0.0966, -0.0395, -0.0229],\n",
       "          [-0.1051,  0.0357,  0.1008,  0.0573, -0.0023]],\n",
       "\n",
       "         [[-0.0088, -0.0541, -0.0128,  0.1013, -0.0594],\n",
       "          [ 0.0185, -0.0847, -0.0316,  0.0067, -0.0872],\n",
       "          [ 0.0314, -0.0992, -0.0472,  0.0804,  0.1083],\n",
       "          [-0.0090, -0.0825, -0.0948, -0.0284, -0.0589],\n",
       "          [ 0.0918, -0.0823,  0.0695,  0.0220, -0.0351]],\n",
       "\n",
       "         [[ 0.0941,  0.0643, -0.0040, -0.0783, -0.0340],\n",
       "          [ 0.0372,  0.1001, -0.0390, -0.0480, -0.1128],\n",
       "          [ 0.0710,  0.1127,  0.0795, -0.0643,  0.0827],\n",
       "          [-0.0350,  0.0604,  0.0675, -0.0941,  0.0286],\n",
       "          [ 0.0461, -0.0694,  0.1068,  0.0901,  0.0965]]],\n",
       "\n",
       "\n",
       "        [[[-0.0010, -0.0618, -0.0631,  0.0408, -0.0229],\n",
       "          [ 0.0918,  0.0967,  0.0089, -0.0945,  0.0458],\n",
       "          [ 0.1033, -0.0290, -0.0604, -0.0270,  0.0165],\n",
       "          [-0.0857,  0.0617,  0.0494, -0.0441, -0.0428],\n",
       "          [-0.0548,  0.0903,  0.0685,  0.0328, -0.0052]],\n",
       "\n",
       "         [[ 0.0288,  0.1114,  0.0366, -0.0576,  0.0447],\n",
       "          [-0.0458, -0.0041, -0.0744, -0.0034,  0.0060],\n",
       "          [-0.0700,  0.0742,  0.1066, -0.0966,  0.0335],\n",
       "          [-0.0798, -0.0230,  0.0553, -0.0020,  0.0350],\n",
       "          [-0.0374,  0.1102, -0.0542,  0.0216,  0.0119]],\n",
       "\n",
       "         [[ 0.0787,  0.0118,  0.0696,  0.0298,  0.0736],\n",
       "          [ 0.0015,  0.0385,  0.1139, -0.0376, -0.0470],\n",
       "          [ 0.0838,  0.0442, -0.1090,  0.0411, -0.1132],\n",
       "          [-0.0627,  0.0452,  0.0608, -0.0261,  0.0977],\n",
       "          [ 0.1148,  0.0900, -0.1061, -0.0420,  0.0070]]],\n",
       "\n",
       "\n",
       "        [[[ 0.0939, -0.0194,  0.0241,  0.0608, -0.0604],\n",
       "          [-0.0699,  0.1142, -0.0026,  0.0817, -0.1126],\n",
       "          [-0.0441,  0.0810, -0.0112,  0.0389, -0.0967],\n",
       "          [ 0.1124, -0.0576, -0.0058, -0.0756, -0.0512],\n",
       "          [-0.0990, -0.1011, -0.0236, -0.0509,  0.0853]],\n",
       "\n",
       "         [[-0.0006,  0.0898, -0.0193,  0.0245,  0.1109],\n",
       "          [-0.0894, -0.0500,  0.0987, -0.0265, -0.0311],\n",
       "          [ 0.0093, -0.0620,  0.0083, -0.0480,  0.0366],\n",
       "          [-0.0245, -0.0387, -0.0435,  0.0300,  0.0579],\n",
       "          [-0.1056, -0.0805, -0.1108,  0.0539,  0.0866]],\n",
       "\n",
       "         [[-0.1109,  0.0300,  0.0234, -0.0620,  0.0249],\n",
       "          [ 0.0890,  0.1133,  0.0499, -0.0229, -0.0657],\n",
       "          [-0.0440,  0.0009, -0.0085,  0.0843, -0.1044],\n",
       "          [ 0.0103, -0.0367,  0.0096,  0.1110,  0.0034],\n",
       "          [-0.0200, -0.0391, -0.1152, -0.1046,  0.0503]]]], device='cuda:0')"
      ]
     },
     "execution_count": 11,
     "metadata": {},
     "output_type": "execute_result"
    }
   ],
   "source": [
    "\n",
    "weight_dict[1][0]['base.conv1.weight']"
   ]
  },
  {
   "cell_type": "code",
   "execution_count": 19,
   "metadata": {},
   "outputs": [
    {
     "data": {
      "text/plain": [
       "tensor(2977.8638, device='cuda:0')"
      ]
     },
     "execution_count": 19,
     "metadata": {},
     "output_type": "execute_result"
    }
   ],
   "source": [
    "weight_dict[9][0]['base.conv1.weight'].norm(p=1)"
   ]
  },
  {
   "cell_type": "code",
   "execution_count": 94,
   "metadata": {},
   "outputs": [],
   "source": [
    "a = torch.stack([\n",
    "    torch.tensor([1.0,2,3,4]),\n",
    "    torch.tensor([4.0,5,6,7]),\n",
    "    torch.tensor([7.0,8,9,8]),\n",
    "])\n",
    "b = torch.tensor([1.0,2,3,4])\n",
    "a, b"
   ]
  },
  {
   "cell_type": "code",
   "execution_count": 95,
   "metadata": {},
   "outputs": [
    {
     "data": {
      "text/plain": [
       "(tensor([[1., 2., 3., 4.],\n",
       "         [4., 5., 6., 7.],\n",
       "         [7., 8., 9., 8.]]),\n",
       " tensor([1., 2., 3., 4.]))"
      ]
     },
     "execution_count": 95,
     "metadata": {},
     "output_type": "execute_result"
    }
   ],
   "source": []
  },
  {
   "cell_type": "code",
   "execution_count": 93,
   "metadata": {},
   "outputs": [
    {
     "ename": "RuntimeError",
     "evalue": "size mismatch, got input (3), mat (3x4), vec (3)",
     "output_type": "error",
     "traceback": [
      "\u001b[0;31m---------------------------------------------------------------------------\u001b[0m",
      "\u001b[0;31mRuntimeError\u001b[0m                              Traceback (most recent call last)",
      "Input \u001b[0;32mIn [93]\u001b[0m, in \u001b[0;36m<cell line: 1>\u001b[0;34m()\u001b[0m\n\u001b[0;32m----> 1\u001b[0m \u001b[43ma\u001b[49m\u001b[38;5;129;43m@b\u001b[39;49m\n",
      "\u001b[0;31mRuntimeError\u001b[0m: size mismatch, got input (3), mat (3x4), vec (3)"
     ]
    }
   ],
   "source": [
    "a@b"
   ]
  },
  {
   "cell_type": "code",
   "execution_count": 86,
   "metadata": {},
   "outputs": [
    {
     "data": {
      "text/plain": [
       "tensor([4., 5., 6.])"
      ]
     },
     "execution_count": 86,
     "metadata": {},
     "output_type": "execute_result"
    }
   ],
   "source": [
    "torch.mean(a, dim=0)"
   ]
  }
 ],
 "metadata": {
  "kernelspec": {
   "display_name": "fedml-pip",
   "language": "python",
   "name": "python3"
  },
  "language_info": {
   "codemirror_mode": {
    "name": "ipython",
    "version": 3
   },
   "file_extension": ".py",
   "mimetype": "text/x-python",
   "name": "python",
   "nbconvert_exporter": "python",
   "pygments_lexer": "ipython3",
   "version": "3.8.19"
  }
 },
 "nbformat": 4,
 "nbformat_minor": 2
}
